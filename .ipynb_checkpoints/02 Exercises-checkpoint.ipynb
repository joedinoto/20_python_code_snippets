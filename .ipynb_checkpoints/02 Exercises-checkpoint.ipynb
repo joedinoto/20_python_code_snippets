{
 "cells": [
  {
   "cell_type": "markdown",
   "id": "29d795e5",
   "metadata": {},
   "source": [
    "# Ch 02 Exercises \n",
    "\n",
    "## Performing Logistic Regression with a New Feature and Creating a precision-recall curve"
   ]
  },
  {
   "cell_type": "markdown",
   "id": "9987001b",
   "metadata": {},
   "source": [
    "1. Use scikit-learn `train_test_split` to make a new set of training and testing data. This time instead of `EDUCATAION` use `LIMIT_BAL`: the account's credit limit.\n",
    "2. Train a logistic regression model using the training data from your split. \n",
    "3. Create the array of predicted proabilities for the testing data.\n",
    "4. Calculate the ROC AUC using the predcited probabilities and the true labels of the testing data. Compare this to the ROC AUC from using the `EDUCATION` feature. \n",
    "5. Plot the ROC curve.\n",
    "6. Calculate the data for the precision-recall curve on the testing data using scikit-learn functionality.\n",
    "7. Plot the precision-recall curve using `matplotlib`.\n",
    "8. Use scikit-learn to calculate the area under the precision-recall curve.\n",
    "9. Now recalculate the ROC AUC, except this time do it for the trianing data. How is this different, conceptually and quantitatively, from your earlier calculation?"
   ]
  },
  {
   "cell_type": "code",
   "execution_count": 1,
   "id": "b8bb0bd5",
   "metadata": {},
   "outputs": [],
   "source": [
    "# import packages\n",
    "import sys\n",
    "import numpy as np\n",
    "import pandas as pd\n",
    "import matplotlib as mpl\n",
    "import matplotlib.pyplot as plt\n",
    "%matplotlib inline\n",
    "mpl.rcParams['figure.dpi'] = 200\n",
    "mpl.rcParams['font.size'] = 12 \n",
    "import sklearn\n",
    "from sklearn.linear_model import LogisticRegression\n",
    "# needed for activity 2\n",
    "from sklearn.model_selection import train_test_split\n",
    "from sklearn import metrics"
   ]
  },
  {
   "cell_type": "code",
   "execution_count": 2,
   "id": "877e1f43",
   "metadata": {},
   "outputs": [],
   "source": [
    "my_lr = LogisticRegression(penalty='l2', dual=False,\n",
    "                              tol=0.0001, C=0.1, fit_intercept=True,\n",
    "                              intercept_scaling=1, class_weight=None,\n",
    "                              random_state = None, solver='liblinear',\n",
    "                              max_iter=100, multi_class='auto',\n",
    "                              verbose=0, warm_start=False,\n",
    "                              n_jobs=None, l1_ratio=None)"
   ]
  },
  {
   "cell_type": "code",
   "execution_count": null,
   "id": "451ae542",
   "metadata": {},
   "outputs": [],
   "source": []
  }
 ],
 "metadata": {
  "kernelspec": {
   "display_name": "Python 3 (ipykernel)",
   "language": "python",
   "name": "python3"
  },
  "language_info": {
   "codemirror_mode": {
    "name": "ipython",
    "version": 3
   },
   "file_extension": ".py",
   "mimetype": "text/x-python",
   "name": "python",
   "nbconvert_exporter": "python",
   "pygments_lexer": "ipython3",
   "version": "3.11.5"
  }
 },
 "nbformat": 4,
 "nbformat_minor": 5
}
