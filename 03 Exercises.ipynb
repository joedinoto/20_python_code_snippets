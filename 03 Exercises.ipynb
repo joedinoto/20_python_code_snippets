{
 "cells": [
  {
   "cell_type": "markdown",
   "id": "b11b8fa6",
   "metadata": {},
   "source": [
    "# Ch 03 Exercises"
   ]
  },
  {
   "cell_type": "code",
   "execution_count": 26,
   "id": "43a87725",
   "metadata": {},
   "outputs": [],
   "source": [
    "# packages\n",
    "import numpy as np\n",
    "import pandas as pd\n",
    "import matplotlib as mpl\n",
    "import matplotlib.pyplot as plt\n",
    "%matplotlib inline\n",
    "mpl.rcParams['figure.dpi'] = 200\n",
    "import seaborn as sns # more plotting\n",
    "from sklearn.linear_model import LogisticRegression\n",
    "from sklearn.model_selection import train_test_split\n",
    "from sklearn.metrics import roc_auc_score\n",
    "# import data\n",
    "df = pd.read_csv(r'C:\\Users\\Lappy\\Data Science Projects with Python\\00 data\\ch01_cleaned_data.csv')"
   ]
  },
  {
   "cell_type": "markdown",
   "id": "a8109c95",
   "metadata": {},
   "source": [
    "## Create a traintest split 80/20 with `PAY_1` and `LIMIT_BAL` as features"
   ]
  },
  {
   "cell_type": "code",
   "execution_count": 12,
   "id": "67e790a2",
   "metadata": {},
   "outputs": [],
   "source": [
    "X_train, X_test, y_train, y_test = train_test_split(\n",
    "    df[['PAY_1', 'LIMIT_BAL']].values, \n",
    "    df['default payment next month'].values,\n",
    "    test_size = 0.2,\n",
    "    random_state=24)\n",
    "\n",
    "# set up the lR model\n",
    "lr_model = LogisticRegression(solver='liblinear')\n",
    "lr_model.fit(X_train, y_train)\n",
    "y_pred = lr_model.predict(X_test)\n",
    "y_pred_proba = lr_model.predict_proba(X_test)"
   ]
  },
  {
   "cell_type": "code",
   "execution_count": 14,
   "id": "e06cc431",
   "metadata": {},
   "outputs": [
    {
     "data": {
      "text/plain": [
       "array([[ 1.0e+00,  2.0e+00,  1.6e+05],\n",
       "       [ 1.0e+00,  1.0e+00,  5.0e+04],\n",
       "       [ 1.0e+00, -1.0e+00,  2.0e+05],\n",
       "       ...,\n",
       "       [ 1.0e+00, -1.0e+00,  5.0e+04],\n",
       "       [ 1.0e+00,  1.0e+00,  2.3e+05],\n",
       "       [ 1.0e+00,  2.0e+00,  1.0e+05]])"
      ]
     },
     "execution_count": 14,
     "metadata": {},
     "output_type": "execute_result"
    }
   ],
   "source": [
    "ones_and_features = np.hstack([np.ones((X_test.shape[0],1)), X_test])\n",
    "ones_and_features"
   ]
  },
  {
   "cell_type": "code",
   "execution_count": 17,
   "id": "1e86838b",
   "metadata": {},
   "outputs": [
    {
     "data": {
      "text/plain": [
       "array([[-6.57647457e-11,  8.27451187e-11, -6.80876727e-06]])"
      ]
     },
     "execution_count": 17,
     "metadata": {},
     "output_type": "execute_result"
    }
   ],
   "source": [
    "intercept_and_coefs = np.concatenate(\n",
    "    [lr_model.intercept_.reshape(1,1),\n",
    "     lr_model.coef_], \n",
    "    axis = 1)\n",
    "intercept_and_coefs"
   ]
  },
  {
   "cell_type": "code",
   "execution_count": 21,
   "id": "46074580",
   "metadata": {},
   "outputs": [
    {
     "data": {
      "text/plain": [
       "array([[-1.08940276, -0.34043836, -1.36175345, ..., -0.34043836,\n",
       "        -1.56601647, -0.68087673]])"
      ]
     },
     "execution_count": 21,
     "metadata": {},
     "output_type": "execute_result"
    }
   ],
   "source": [
    "X_lin_comb = np.dot(intercept_and_coefs, np.transpose(ones_and_features))\n",
    "X_lin_comb"
   ]
  },
  {
   "cell_type": "code",
   "execution_count": 23,
   "id": "8027d6ec",
   "metadata": {},
   "outputs": [
    {
     "data": {
      "text/plain": [
       "array([[0.25173076, 0.415703  , 0.20395547, ..., 0.415703  , 0.17278502,\n",
       "        0.33606565]])"
      ]
     },
     "execution_count": 23,
     "metadata": {},
     "output_type": "execute_result"
    }
   ],
   "source": [
    "# the sigmoid function is aparently not built in automatically\n",
    "# so build it\n",
    "\n",
    "# define the sigmoid function\n",
    "def sigmoid(z):\n",
    "    return 1/(1 + np.exp(-z))\n",
    "\n",
    "y_pred_proba_manual = sigmoid(X_lin_comb)\n",
    "y_pred_proba_manual"
   ]
  },
  {
   "cell_type": "code",
   "execution_count": 24,
   "id": "fb8b9e30",
   "metadata": {},
   "outputs": [
    {
     "data": {
      "text/plain": [
       "array([[False, False, False, ..., False, False, False]])"
      ]
     },
     "execution_count": 24,
     "metadata": {},
     "output_type": "execute_result"
    }
   ],
   "source": [
    "y_pred_manual = y_pred_proba_manual >= 0.5\n",
    "y_pred_manual"
   ]
  },
  {
   "cell_type": "code",
   "execution_count": 25,
   "id": "7ccbd991",
   "metadata": {},
   "outputs": [
    {
     "data": {
      "text/plain": [
       "True"
      ]
     },
     "execution_count": 25,
     "metadata": {},
     "output_type": "execute_result"
    }
   ],
   "source": [
    "np.array_equal(y_pred.reshape(1,-1), y_pred_manual)"
   ]
  },
  {
   "cell_type": "code",
   "execution_count": 27,
   "id": "fe981a69",
   "metadata": {},
   "outputs": [
    {
     "data": {
      "text/plain": [
       "0.627207450280691"
      ]
     },
     "execution_count": 27,
     "metadata": {},
     "output_type": "execute_result"
    }
   ],
   "source": [
    "roc_auc_score(y_test,y_pred_proba_manual.reshape(y_pred_proba_manual.shape[1],))"
   ]
  },
  {
   "cell_type": "code",
   "execution_count": 30,
   "id": "81ca37de",
   "metadata": {},
   "outputs": [
    {
     "data": {
      "text/plain": [
       "0.627207450280691"
      ]
     },
     "execution_count": 30,
     "metadata": {},
     "output_type": "execute_result"
    }
   ],
   "source": [
    "roc_auc_score(y_test,y_pred_proba[:,1])"
   ]
  },
  {
   "cell_type": "code",
   "execution_count": null,
   "id": "08b3412f",
   "metadata": {},
   "outputs": [],
   "source": []
  }
 ],
 "metadata": {
  "kernelspec": {
   "display_name": "Python 3 (ipykernel)",
   "language": "python",
   "name": "python3"
  },
  "language_info": {
   "codemirror_mode": {
    "name": "ipython",
    "version": 3
   },
   "file_extension": ".py",
   "mimetype": "text/x-python",
   "name": "python",
   "nbconvert_exporter": "python",
   "pygments_lexer": "ipython3",
   "version": "3.11.5"
  }
 },
 "nbformat": 4,
 "nbformat_minor": 5
}
