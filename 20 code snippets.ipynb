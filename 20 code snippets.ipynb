{
 "cells": [
  {
   "cell_type": "markdown",
   "id": "0e303944-b501-48ed-b356-86a83d4f101a",
   "metadata": {},
   "source": [
    "## 20 useful Python code snippets\n",
    "\n",
    "From [this thread](https://twitter.com/clcoding/status/1774818030649758007) by [@Clcoding](https://twitter.com/clcoding) on twitter."
   ]
  },
  {
   "cell_type": "code",
   "execution_count": 2,
   "id": "b2c70762-4c57-44c3-8665-9c0faf0777c9",
   "metadata": {},
   "outputs": [
    {
     "name": "stdout",
     "output_type": "stream",
     "text": [
      "dlrow olleh\n"
     ]
    }
   ],
   "source": [
    "# Reverse a string\n",
    "string = \"hello world\"\n",
    "reversed_string = string[::-1]\n",
    "print(reversed_string)"
   ]
  },
  {
   "cell_type": "code",
   "execution_count": 3,
   "id": "9248ce66-d1d9-482c-9195-a8f419e1cfb1",
   "metadata": {},
   "outputs": [
    {
     "name": "stdout",
     "output_type": "stream",
     "text": [
      "substring found\n"
     ]
    }
   ],
   "source": [
    "# Check to see if a string contains a substring\n",
    "string = \"hello world\"\n",
    "substring = \"world\"\n",
    "if substring in string:\n",
    "    print(\"substring found\")"
   ]
  },
  {
   "cell_type": "code",
   "execution_count": 5,
   "id": "4e348522-383c-4880-aec3-3a9d4ae9145d",
   "metadata": {},
   "outputs": [
    {
     "name": "stdout",
     "output_type": "stream",
     "text": [
      "10\n"
     ]
    }
   ],
   "source": [
    "# find the max value of a list\n",
    "my_list = [1,2,3,4,5,6,7,8,9,10]\n",
    "max_value = max(my_list)\n",
    "print(max_value)"
   ]
  },
  {
   "cell_type": "code",
   "execution_count": 6,
   "id": "97f15a07-a909-45c2-bbf1-a640cfe4c97d",
   "metadata": {},
   "outputs": [
    {
     "name": "stdout",
     "output_type": "stream",
     "text": [
      "7\n"
     ]
    }
   ],
   "source": [
    "# find the index of the max value of a list\n",
    "my_list = [8,2,3,4,6,0,9,20,7,2,9]\n",
    "max_index = my_list.index(max(my_list))\n",
    "print(max_index)"
   ]
  },
  {
   "cell_type": "code",
   "execution_count": 7,
   "id": "d70c8228-896b-4f8d-bc34-d89b1959bbfd",
   "metadata": {},
   "outputs": [
    {
     "name": "stdout",
     "output_type": "stream",
     "text": [
      "[6, 5, 4, 3, 2, 1]\n"
     ]
    }
   ],
   "source": [
    "# reverse a list\n",
    "my_list = [1,2,3,4,5,6]\n",
    "reversed_list = my_list[::-1]\n",
    "print(reversed_list)"
   ]
  },
  {
   "cell_type": "code",
   "execution_count": 11,
   "id": "547ed691-444b-42b2-9a28-fbbacabbf9ae",
   "metadata": {},
   "outputs": [
    {
     "name": "stdout",
     "output_type": "stream",
     "text": [
      "{'banana': 1, 'orange': 2, 'apple': 3}\n"
     ]
    }
   ],
   "source": [
    "# sort a dictionary by value\n",
    "# not really sure what's happening in sorted_dict \n",
    "my_dict = {\"apple\": 3, \"banana\": 1, \"orange\": 2}\n",
    "sorted_dict = {k: v for k, v in sorted(my_dict.items(), key = lambda item: item[1])}\n",
    "print(sorted_dict)"
   ]
  },
  {
   "cell_type": "markdown",
   "id": "7917e905-5e95-4b4b-a110-6347d54c0496",
   "metadata": {},
   "source": [
    "See this artice on sorting dictionaries for a more detailed explanation: \n",
    "\n",
    "https://realpython.com/sort-python-dictionary/"
   ]
  },
  {
   "cell_type": "code",
   "execution_count": 13,
   "id": "e1e40cbc-022b-4b8d-b78e-3f79f2cb2a54",
   "metadata": {},
   "outputs": [],
   "source": [
    "# checking if a file exists\n",
    "import os\n",
    "if os.path.isfile(\"file.txt\"):\n",
    "    print(\"File exists\")"
   ]
  },
  {
   "cell_type": "code",
   "execution_count": 14,
   "id": "3821ccfc-1e93-4c51-9618-4a638dc2c4da",
   "metadata": {},
   "outputs": [
    {
     "name": "stdout",
     "output_type": "stream",
     "text": [
      "2\n"
     ]
    }
   ],
   "source": [
    "# counting occurances of an item in a list\n",
    "my_list = [8,2,3,4,6,0,9,20,7,2,9]\n",
    "count = my_list.count(9)\n",
    "print(count)"
   ]
  },
  {
   "cell_type": "code",
   "execution_count": 16,
   "id": "9e03f439-4e5b-4d6d-b4e4-f49f5a4d590d",
   "metadata": {},
   "outputs": [],
   "source": [
    "# checking if all elements in a list are unique\n",
    "my_list = [1,2,3,4,5,1,2,3,4,5]\n",
    "if len(my_list) == len(set(my_list)):\n",
    "    print(\"All elements are unique\")"
   ]
  },
  {
   "cell_type": "code",
   "execution_count": 17,
   "id": "089642e1-05bd-483b-a7b2-ebc3afb9ea96",
   "metadata": {},
   "outputs": [
    {
     "name": "stdout",
     "output_type": "stream",
     "text": [
      "[1, 2, 4, 1, 2, 4, 5, 6, 7, 5, 6, 7, 9]\n"
     ]
    }
   ],
   "source": [
    "# removing all occurances of an item from a list\n",
    "my_list = [1,2,3,4,1,2,3,4,5,6,7,5,6,7,9]\n",
    "item = 3\n",
    "my_list = [x for x in my_list if x != item]\n",
    "print(my_list)"
   ]
  },
  {
   "cell_type": "code",
   "execution_count": 18,
   "id": "cb431e0d-6ccd-4917-a9d7-bfbee4133f68",
   "metadata": {},
   "outputs": [
    {
     "name": "stdout",
     "output_type": "stream",
     "text": [
      "[1, 2, 3, 4, 5, 6]\n"
     ]
    }
   ],
   "source": [
    "# flatten a nested list\n",
    "my_list = [[1,2],[3,4],[5,6]]\n",
    "flattened_list = [x for sublist in my_list for x in sublist ]\n",
    "print(flattened_list)"
   ]
  },
  {
   "cell_type": "code",
   "execution_count": 1,
   "id": "534e36a0-7d4c-47a6-ae1c-a87202329430",
   "metadata": {},
   "outputs": [
    {
     "name": "stdout",
     "output_type": "stream",
     "text": [
      "{'apple': 3, 'banana': 1, 'orange': 2, 'pear': 4}\n"
     ]
    }
   ],
   "source": [
    "# merging two dictionaries\n",
    "dict1 = {\"apple\": 3, \"banana\": 1}\n",
    "dict2 = {\"orange\": 2, \"pear\": 4}\n",
    "merged_dict = {**dict1, **dict2}\n",
    "print(merged_dict)"
   ]
  },
  {
   "cell_type": "code",
   "execution_count": 3,
   "id": "e342bef0-1818-4983-85f5-39d169f27d04",
   "metadata": {},
   "outputs": [
    {
     "name": "stdout",
     "output_type": "stream",
     "text": [
      "helloworld\n"
     ]
    }
   ],
   "source": [
    "# remove all whitespace from a string\n",
    "string = \"  hello     world    \"\n",
    "new_string = \"\".join(string.split())\n",
    "print(new_string)"
   ]
  },
  {
   "cell_type": "markdown",
   "id": "84dfe8d5-6f45-465c-9593-327cc89c99f6",
   "metadata": {},
   "source": [
    "How do I do the equivalent of a power query \"trim\" of a string?  "
   ]
  },
  {
   "cell_type": "code",
   "execution_count": 6,
   "id": "beb2af5f-ce7c-4885-b1e5-a6342debcba7",
   "metadata": {},
   "outputs": [
    {
     "name": "stdout",
     "output_type": "stream",
     "text": [
      "this string is a palindrome\n"
     ]
    }
   ],
   "source": [
    "# check if a string is a palindrome\n",
    "#string = \"abcdefg1234567\"\n",
    "string = \"tacocat\"\n",
    "if string == string[::-1]:\n",
    "    print(\"this string is a palindrome\")"
   ]
  },
  {
   "cell_type": "code",
   "execution_count": 7,
   "id": "02854b51-20c9-4a6b-8169-d66463f05bf8",
   "metadata": {},
   "outputs": [
    {
     "name": "stdout",
     "output_type": "stream",
     "text": [
      "deolhwr \n"
     ]
    }
   ],
   "source": [
    "# remove duplicates from a string\n",
    "string = \"hello world\"\n",
    "new_string = \"\".join(set(string))\n",
    "print(new_string)"
   ]
  },
  {
   "cell_type": "code",
   "execution_count": 9,
   "id": "91f59777-fb6c-445c-9d4d-77f3ec0fdb6c",
   "metadata": {},
   "outputs": [
    {
     "name": "stdout",
     "output_type": "stream",
     "text": [
      "10\n"
     ]
    }
   ],
   "source": [
    "# counting the number of words in a string\n",
    "string = \"Oh what a beautiful morning oh what a beautiful day\"\n",
    "word_count = len(string.split())\n",
    "print(word_count)"
   ]
  },
  {
   "cell_type": "code",
   "execution_count": 10,
   "id": "8eabd586-4b59-445b-a537-e0151f2f129a",
   "metadata": {},
   "outputs": [
    {
     "name": "stdout",
     "output_type": "stream",
     "text": [
      "5\n"
     ]
    }
   ],
   "source": [
    "# generating a random integer\n",
    "import random\n",
    "random_number = random.randint(1,10)\n",
    "print(random_number)"
   ]
  },
  {
   "cell_type": "code",
   "execution_count": null,
   "id": "d1ec4765-b953-4ab7-a263-de10c6693669",
   "metadata": {},
   "outputs": [],
   "source": []
  }
 ],
 "metadata": {
  "kernelspec": {
   "display_name": "Python 3 (ipykernel)",
   "language": "python",
   "name": "python3"
  },
  "language_info": {
   "codemirror_mode": {
    "name": "ipython",
    "version": 3
   },
   "file_extension": ".py",
   "mimetype": "text/x-python",
   "name": "python",
   "nbconvert_exporter": "python",
   "pygments_lexer": "ipython3",
   "version": "3.11.7"
  }
 },
 "nbformat": 4,
 "nbformat_minor": 5
}
